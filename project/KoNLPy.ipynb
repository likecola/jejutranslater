{
 "cells": [
  {
   "cell_type": "markdown",
   "metadata": {},
   "source": [
    "# KoNLPy 사용하기"
   ]
  },
  {
   "cell_type": "markdown",
   "metadata": {},
   "source": [
    "1. 자바 설치 (JDK, oracle.com )\n",
    "https://www.oracle.com/java/technologies/downloads/ 로 들어가서 자바를 설치한다."
   ]
  },
  {
   "cell_type": "markdown",
   "metadata": {},
   "source": [
    "2. 환경 변수 설정\n",
    "환경 변수를 설정하는 이유는 JAVA 설치를 컴퓨터가 인식하기 위함이다. \n",
    "`고급 -> 환경 변수 -> 시스템 변수의 새로만들기 -> 변수 : JAVA_HOME / RKQT : 설치 경로 -> 적용 -> 확인"
   ]
  },
  {
   "cell_type": "markdown",
   "metadata": {},
   "source": [
    "3. 아나콘다 설치\n",
    "https://www.anaconda.com/products/individual 에서 Anaconda Individual Edition 설치"
   ]
  },
  {
   "cell_type": "markdown",
   "metadata": {},
   "source": [
    "4. jpype 설치\n",
    "https://www.lfd.uci.edu/~gohlke/pythonlibs/#jpype 사이트로 이동\n",
    "파이썬 버전에 맞게 설치 (3.7x 버전이면 JPype1‑1.1.2‑cp37‑cp37‑win_amd64.whl)\n",
    "보통 Downloads 폴더에 다운이 받아진다. \n",
    "설치 경로로 바꾼 다음 pip으로 설치를 진행한다.\n",
    "경로 변경 : 명령 프롬프트에서 cd 절대 경로나 상대경로로 한다."
   ]
  },
  {
   "cell_type": "markdown",
   "metadata": {},
   "source": [
    "5. konlpy 설치\n",
    "pip install konlpy 설치를 한다."
   ]
  },
  {
   "cell_type": "code",
   "execution_count": null,
   "metadata": {},
   "outputs": [],
   "source": [
    "!pip install torch==2.0.0+cu118 torchvision==0.15.1+cu118 torchaudio==2.0.1 --index-url https://download.pytorch.org/whl/cu118"
   ]
  },
  {
   "cell_type": "code",
   "execution_count": null,
   "metadata": {},
   "outputs": [],
   "source": [
    "import torch\n",
    "USE_CUDA = torch.cuda.is_available()\n",
    "print(USE_CUDA)\n",
    "# true 라고 출력되면 사용 가능"
   ]
  }
 ],
 "metadata": {
  "language_info": {
   "name": "python"
  }
 },
 "nbformat": 4,
 "nbformat_minor": 2
}
